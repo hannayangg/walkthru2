{
 "cells": [
  {
   "cell_type": "markdown",
   "id": "f83d817f-907f-463c-9c1a-800f9b21547a",
   "metadata": {},
   "source": [
    "walkthru sample notebook"
   ]
  },
  {
   "cell_type": "markdown",
   "id": "5ac4888a-3086-4752-8b4b-cf0d798f3438",
   "metadata": {},
   "source": [
    "Here is how I calculate `1+1`:"
   ]
  },
  {
   "cell_type": "code",
   "execution_count": 2,
   "id": "d1ac902e-781b-45b5-a56c-4b7cc0e3dbc8",
   "metadata": {},
   "outputs": [
    {
     "data": {
      "text/plain": [
       "2"
      ]
     },
     "execution_count": 2,
     "metadata": {},
     "output_type": "execute_result"
    }
   ],
   "source": [
    "1+1"
   ]
  },
  {
   "cell_type": "code",
   "execution_count": 4,
   "id": "af757801-1faa-43f0-a1ef-da68be8cb553",
   "metadata": {},
   "outputs": [],
   "source": [
    "from numpy import *"
   ]
  },
  {
   "cell_type": "markdown",
   "id": "5794e976-4895-4024-aeb2-7b441a3b3227",
   "metadata": {},
   "source": [
    "Here is how I calculate `sin`:"
   ]
  },
  {
   "cell_type": "code",
   "execution_count": 5,
   "id": "21d3a3db-f94d-4bf7-b43a-25ff4560d0be",
   "metadata": {},
   "outputs": [
    {
     "data": {
      "text/plain": [
       "<ufunc 'sin'>"
      ]
     },
     "execution_count": 5,
     "metadata": {},
     "output_type": "execute_result"
    }
   ],
   "source": [
    "# shift+tab -> 함수에대한 설명\n",
    "\n",
    "sin"
   ]
  },
  {
   "cell_type": "code",
   "execution_count": 6,
   "id": "5eee7bff-f899-48ad-b108-ff99b5c7be37",
   "metadata": {},
   "outputs": [
    {
     "data": {
      "text/plain": [
       "array([0.84147098, 0.        , 1.        ])"
      ]
     },
     "execution_count": 6,
     "metadata": {},
     "output_type": "execute_result"
    }
   ],
   "source": [
    "a = array([1,0,pi/2])\n",
    "sin(a)"
   ]
  },
  {
   "cell_type": "code",
   "execution_count": null,
   "id": "9b2520fd-bcdc-4a55-a5cc-1223310b8c3c",
   "metadata": {},
   "outputs": [],
   "source": []
  }
 ],
 "metadata": {
  "kernelspec": {
   "display_name": "Python 3 (ipykernel)",
   "language": "python",
   "name": "python3"
  },
  "language_info": {
   "codemirror_mode": {
    "name": "ipython",
    "version": 3
   },
   "file_extension": ".py",
   "mimetype": "text/x-python",
   "name": "python",
   "nbconvert_exporter": "python",
   "pygments_lexer": "ipython3",
   "version": "3.10.12"
  }
 },
 "nbformat": 4,
 "nbformat_minor": 5
}
